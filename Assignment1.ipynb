{
 "cells": [
  {
   "cell_type": "code",
   "execution_count": 34,
   "id": "c1e8dd8c",
   "metadata": {},
   "outputs": [
    {
     "name": "stdout",
     "output_type": "stream",
     "text": [
      "Enter the height:182\n",
      "Enter the weight:62\n",
      "You are under weight\n",
      "Your bmi is: 1.3158434971621784\n"
     ]
    }
   ],
   "source": [
    "height= eval(input('Enter the height:'))\n",
    "weight= eval(input('Enter the weight:'))\n",
    "\n",
    "def BMI(height,weight):\n",
    "    bmi= weight/(height**2) * 703\n",
    "    if (bmi<16):\n",
    "        print('You are under weight\\n''Your bmi is:',bmi)\n",
    "    elif (bmi>=16 and bmi< 18.5):\n",
    "        print('You are under weight\\n''Your bmi is:',bmi)\n",
    "    elif (bmi>=18.5 and bmi<25):\n",
    "        print('You are healthy\\n''Your bmi is:',bmi)\n",
    "    elif(bmi>=25 and bmi<30):\n",
    "        print('You are overweight\\n''Your bmi is:',bmi)\n",
    "    elif(bmi>=30):\n",
    "        print('Need to consult Doctor\\n''Your bmi is:',bmi)\n",
    "        \n",
    "BMI(height,weight)\n",
    "\n",
    "    "
   ]
  },
  {
   "cell_type": "code",
   "execution_count": 3,
   "id": "24685ce8",
   "metadata": {},
   "outputs": [
    {
     "name": "stdout",
     "output_type": "stream",
     "text": [
      "1.Addition\n",
      "2.Subtraction\n",
      "3.Multiply\n",
      "4.Division\n",
      "Enter the number: 20\n",
      "Enter the number: 50\n",
      "Enter the choice.1/2/3/4: 4\n",
      "0.4\n"
     ]
    }
   ],
   "source": [
    "def add(num1,num2):\n",
    "    print(num1+num2)\n",
    "    return\n",
    "def sub(num1,num2):\n",
    "    print(num1-num2)\n",
    "    return\n",
    "def multiple(num1,num2):\n",
    "    print(num1*num2)\n",
    "    return\n",
    "def division(num1,num2):\n",
    "    print(num1/num2)\n",
    "    return\n",
    "print(\"1.Addition\")\n",
    "print(\"2.Subtraction\")\n",
    "print(\"3.Multiply\")\n",
    "print(\"4.Division\")\n",
    "num1= eval(input('Enter the number: '))\n",
    "num2= eval(input('Enter the number: '))\n",
    "choice= eval(input(\"Enter the choice.1/2/3/4: \"))\n",
    "\n",
    "if choice==1:\n",
    "    add(num1,num2)\n",
    "elif choice==2:\n",
    "    sub(num1,num2)\n",
    "elif choice==3:\n",
    "    multiple(num1,num2)\n",
    "elif choice==4:\n",
    "    division(num1,num2)\n",
    "else:\n",
    "    print('Wrong choice')\n",
    "\n"
   ]
  },
  {
   "cell_type": "code",
   "execution_count": 28,
   "id": "3c4fc917",
   "metadata": {},
   "outputs": [
    {
     "name": "stdout",
     "output_type": "stream",
     "text": [
      "Enter the number of rows:4\n",
      "   * \n",
      "  * * \n",
      " * * * \n",
      "* * * * \n",
      "* * * * \n",
      " * * * \n",
      "  * * \n",
      "   * \n",
      "    \n"
     ]
    }
   ],
   "source": [
    "num= eval(input(\"Enter the number of rows:\"))\n",
    "for i in range(0,num):\n",
    "    for j in range(0,num-i-1):\n",
    "        print(end=\" \")\n",
    "    for j in range(0,i+1):\n",
    "        print(\"*\",end=\" \")\n",
    "    print()\n",
    "for i in range(num,-1,-1):\n",
    "    for j in range(0,num-i):\n",
    "        print(end=\" \")\n",
    "    for j in range(0,i):\n",
    "        print(\"*\",end=\" \")\n",
    "    print()"
   ]
  },
  {
   "cell_type": "code",
   "execution_count": 11,
   "id": "34dd3a0a",
   "metadata": {},
   "outputs": [
    {
     "name": "stdout",
     "output_type": "stream",
     "text": [
      "Enter the number10\n",
      "0 1 1 2 3 5 8 13 21 34 "
     ]
    }
   ],
   "source": [
    "a= eval(input('Enter the number'))\n",
    "f=0\n",
    "s=1\n",
    "if a<=0:\n",
    "    print('The requested series is:',f)\n",
    "else:\n",
    "    print(f,s,end=\" \")\n",
    "for i in range(2,a):\n",
    "    next=f+s\n",
    "    print(next,end=\" \")\n",
    "    f=s\n",
    "    s=next"
   ]
  },
  {
   "cell_type": "code",
   "execution_count": null,
   "id": "8a277e95",
   "metadata": {},
   "outputs": [],
   "source": []
  }
 ],
 "metadata": {
  "kernelspec": {
   "display_name": "Python 3 (ipykernel)",
   "language": "python",
   "name": "python3"
  },
  "language_info": {
   "codemirror_mode": {
    "name": "ipython",
    "version": 3
   },
   "file_extension": ".py",
   "mimetype": "text/x-python",
   "name": "python",
   "nbconvert_exporter": "python",
   "pygments_lexer": "ipython3",
   "version": "3.9.12"
  }
 },
 "nbformat": 4,
 "nbformat_minor": 5
}
